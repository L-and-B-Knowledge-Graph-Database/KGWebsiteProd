{
 "cells": [
  {
   "cell_type": "markdown",
   "metadata": {},
   "source": [
    "<h1>These blocks are here to demonstrate some of the essential components of this project.<h1>"
   ]
  },
  {
   "cell_type": "code",
   "execution_count": 1,
   "metadata": {},
   "outputs": [],
   "source": [
    "import matplotlib.pyplot as plt\n",
    "import core.drivers.test_drivers as t\n",
    "import core.drivers.localDriver as ld\n",
    "from core.drivers.dbDriver import App\n",
    "from io import StringIO\n",
    "import core.drivers.config as c\n",
    "import core.drivers.helper as h\n",
    "import numpy as np\n",
    "import pandas as pd\n",
    "import requests"
   ]
  },
  {
   "cell_type": "code",
   "execution_count": null,
   "metadata": {},
   "outputs": [],
   "source": [
    "# To do anything with neo4j you first have to initilize this\n",
    "neo4j = App(c.uri, c.user, c.password)"
   ]
  },
  {
   "cell_type": "code",
   "execution_count": null,
   "metadata": {},
   "outputs": [],
   "source": [
    "# Best way to run a cypher command \n",
    "result = neo4j.run('MATCH (a:Donor)-[c:CLICKED]->(b:Interest) RETURN a, b, c')"
   ]
  },
  {
   "cell_type": "code",
   "execution_count": null,
   "metadata": {},
   "outputs": [],
   "source": [
    "# To update the Master files to reflect the google drive folder\n",
    "ld.update_master()"
   ]
  },
  {
   "cell_type": "code",
   "execution_count": 2,
   "metadata": {},
   "outputs": [],
   "source": [
    "# Best way to load Donors, Interests, Links\n",
    "Donors = ld.load_Donors()\n",
    "Interests = ld.load_Interests()\n",
    "Links = ld.load_Links()"
   ]
  },
  {
   "cell_type": "code",
   "execution_count": null,
   "metadata": {},
   "outputs": [],
   "source": [
    "# Once you load Donors and Interests, you can update Neo4j\n",
    "neo4j.update_neo4j(Donors, Interests)"
   ]
  },
  {
   "cell_type": "code",
   "execution_count": null,
   "metadata": {},
   "outputs": [],
   "source": [
    "# You can also clear the neo4j database with this\n",
    "neo4j.clear()"
   ]
  },
  {
   "cell_type": "code",
   "execution_count": null,
   "metadata": {},
   "outputs": [],
   "source": [
    "# This is how you can create graphs that display total clicks per interest\n",
    "InterestCount = h.get_Interest_Count(Donors, Interests, Links)\n",
    "h.show_apRatio_graph(InterestCount)\n",
    "h.show_AVP_graph(InterestCount)"
   ]
  },
  {
   "cell_type": "code",
   "execution_count": null,
   "metadata": {},
   "outputs": [],
   "source": [
    "# To check the number of nodes localy and on Neo4j\n",
    "t.check_count(request='', Local=True)"
   ]
  }
 ],
 "metadata": {
  "kernelspec": {
   "display_name": "Python 3.9.0 ('forSite': venv)",
   "language": "python",
   "name": "python3"
  },
  "language_info": {
   "codemirror_mode": {
    "name": "ipython",
    "version": 3
   },
   "file_extension": ".py",
   "mimetype": "text/x-python",
   "name": "python",
   "nbconvert_exporter": "python",
   "pygments_lexer": "ipython3",
   "version": "3.9.0"
  },
  "orig_nbformat": 4,
  "vscode": {
   "interpreter": {
    "hash": "1f3f61ce412c2f79a8ae969927a8abd67397473ff065717f898813dd1425e75b"
   }
  }
 },
 "nbformat": 4,
 "nbformat_minor": 2
}
